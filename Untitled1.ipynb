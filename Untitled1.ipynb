{
 "cells": [
  {
   "cell_type": "code",
   "execution_count": 32,
   "id": "bf7fc640-7573-4df9-801c-7c276659524d",
   "metadata": {},
   "outputs": [],
   "source": [
    "import pandas as pd\n",
    "import time\n",
    "from psycopg2.extras import execute_batch"
   ]
  },
  {
   "cell_type": "code",
   "execution_count": 33,
   "id": "ce8d2061-4ef6-4038-b499-62bd100d0f3d",
   "metadata": {},
   "outputs": [],
   "source": [
    "df=pd.read_csv(\"langchain_pg_embedding.csv\")"
   ]
  },
  {
   "cell_type": "code",
   "execution_count": 41,
   "id": "306ee3d4-3706-4768-a83f-3861c49499ed",
   "metadata": {},
   "outputs": [],
   "source": [
    "specific_id = '6202ecb0-7be2-4ad3-8ac7-7c5c93883607'\n",
    "\n",
    "# Filter the DataFrame to get only rows with matching ID\n",
    "# Replace 'id_column_name' with the actual name of your ID column\n",
    "filtered_df = df[df['collection_id'] == specific_id]"
   ]
  },
  {
   "cell_type": "code",
   "execution_count": 42,
   "id": "fb0d6eec-5664-4495-80f7-d140fd09dc74",
   "metadata": {},
   "outputs": [],
   "source": [
    "import psycopg2\n",
    "conn = psycopg2.connect(database = \"Test\", \n",
    "                        user = \"postgres\", \n",
    "                        host= 'localhost',\n",
    "                        password = \"DaMai69!\",\n",
    "                        port = 5432)"
   ]
  },
  {
   "cell_type": "code",
   "execution_count": 43,
   "id": "16e75a83-1fe8-4290-8663-3a52dc846227",
   "metadata": {},
   "outputs": [],
   "source": [
    "records = [\n",
    "    (row['id'],row[\"collection_id\"], row[\"embedding\"], row[\"document\"], (row[\"cmetadata\"]))\n",
    "    for _, row in filtered_df.iterrows()\n",
    "]"
   ]
  },
  {
   "cell_type": "code",
   "execution_count": 44,
   "id": "2a66ff08-7311-4433-ac3a-26311dfc0f48",
   "metadata": {},
   "outputs": [],
   "source": [
    "cur = conn.cursor()"
   ]
  },
  {
   "cell_type": "code",
   "execution_count": 45,
   "id": "68345df4-470f-40bd-b8a9-817e83929aad",
   "metadata": {},
   "outputs": [],
   "source": [
    "query = \"\"\"\n",
    "INSERT INTO langchain_pg_embedding (id,collection_id, embedding, document, cmetadata)\n",
    "VALUES (%s,%s, %s, %s, %s);\n",
    "\"\"\"\n",
    "execute_batch(cur, query, records)"
   ]
  },
  {
   "cell_type": "code",
   "execution_count": 47,
   "id": "708831c7-c2bd-46d6-b8f0-81123f651d01",
   "metadata": {},
   "outputs": [],
   "source": [
    "conn.commit()\n",
    "cur.close()\n",
    "conn.close()"
   ]
  }
 ],
 "metadata": {
  "kernelspec": {
   "display_name": "Python 3 (ipykernel)",
   "language": "python",
   "name": "python3"
  },
  "language_info": {
   "codemirror_mode": {
    "name": "ipython",
    "version": 3
   },
   "file_extension": ".py",
   "mimetype": "text/x-python",
   "name": "python",
   "nbconvert_exporter": "python",
   "pygments_lexer": "ipython3",
   "version": "3.12.8"
  }
 },
 "nbformat": 4,
 "nbformat_minor": 5
}
